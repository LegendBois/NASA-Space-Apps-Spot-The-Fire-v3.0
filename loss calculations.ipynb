{
 "cells": [
  {
   "cell_type": "code",
   "execution_count": 48,
   "metadata": {},
   "outputs": [],
   "source": [
    "import pandas as pd"
   ]
  },
  {
   "cell_type": "code",
   "execution_count": 49,
   "metadata": {},
   "outputs": [],
   "source": [
    "def get_state_name(lat, long):\n",
    "    from geopy.geocoders import Nominatim\n",
    "    locator = Nominatim(user_agent=\"myGeocoder\")\n",
    "    coordinates = str(lat)+\", \"+str(long)\n",
    "    location = locator.reverse(coordinates)\n",
    "    return location.raw['address'][\"state\"]"
   ]
  },
  {
   "cell_type": "code",
   "execution_count": 72,
   "metadata": {},
   "outputs": [],
   "source": [
    "def get_value_per_acre(lat, long):\n",
    "    propertydata = pd.read_csv(\"Data/statewise-pricing-usa.csv\")\n",
    "    state = get_state_name(lat, long)\n",
    "    return propertydata.loc[propertydata['State'] == state].values[0,1]"
   ]
  },
  {
   "cell_type": "code",
   "execution_count": 113,
   "metadata": {},
   "outputs": [],
   "source": [
    "def get_total_economic_loss(lat, long, area):\n",
    "    acres = 247.105 * area\n",
    "    return get_value_per_acre(lat, long) * acres\n",
    "\n",
    "def get_area_from_scan_track(scan, track):\n",
    "    l = scan * 111 #km\n",
    "    h = track * 111 #km\n",
    "    area_in_km2 = l*h\n",
    "    return area_in_km2\n",
    "\n",
    "def get_weighted_economic_loss(total_economic_loss, risk, risk_scale): #risk_scale is maximum value of risk possible (such as out of 5 or out of 100 etc)\n",
    "    if(risk > risk_scale):\n",
    "        raise ArithmeticError(\"Risk cannot be greater than risk scale\")\n",
    "    return total_economic_loss * risk / risk_scale"
   ]
  },
  {
   "cell_type": "code",
   "execution_count": 111,
   "metadata": {},
   "outputs": [
    {
     "name": "stdout",
     "output_type": "stream",
     "text": [
      "1382939893632.1501 1023375521287.7913\n"
     ]
    }
   ],
   "source": [
    "# testing code\n",
    "totalloss = get_total_economic_loss(32.9715645, -89.7348497, get_area_from_scan_track(3.5,1.8)) # roughly 0.00404686 km2 = 1 acre\n",
    "weightedloss = get_weighted_economic_loss(totalloss, 3.7, 5)\n",
    "print(totalloss, weightedloss)"
   ]
  },
  {
   "cell_type": "markdown",
   "metadata": {},
   "source": [
    "# Breaker"
   ]
  },
  {
   "cell_type": "code",
   "execution_count": 70,
   "metadata": {},
   "outputs": [],
   "source": [
    "def get_lat_long_from_location(name):\n",
    "    from geopy.geocoders import Nominatim\n",
    "    geolocator = Nominatim(user_agent=\"myGeocoder\")\n",
    "    location = geolocator.geocode(name)\n",
    "    return (location.latitude,location.longitude)"
   ]
  },
  {
   "cell_type": "code",
   "execution_count": 94,
   "metadata": {},
   "outputs": [
    {
     "name": "stdout",
     "output_type": "stream",
     "text": [
      "(32.9715645, -89.7348497)\n"
     ]
    }
   ],
   "source": [
    "get_lat_long_from_location('Mississipi')"
   ]
  }
 ],
 "metadata": {
  "kernelspec": {
   "display_name": "Python 3",
   "language": "python",
   "name": "python3"
  },
  "language_info": {
   "codemirror_mode": {
    "name": "ipython",
    "version": 3
   },
   "file_extension": ".py",
   "mimetype": "text/x-python",
   "name": "python",
   "nbconvert_exporter": "python",
   "pygments_lexer": "ipython3",
   "version": "3.8.5"
  }
 },
 "nbformat": 4,
 "nbformat_minor": 4
}
